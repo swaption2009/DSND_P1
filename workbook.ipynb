{
 "cells": [
  {
   "cell_type": "markdown",
   "metadata": {},
   "source": [
    "### Import libraries"
   ]
  },
  {
   "cell_type": "code",
   "execution_count": 1,
   "metadata": {},
   "outputs": [],
   "source": [
    "import pandas as pd\n",
    "import numpy as np\n",
    "import matplotlib.pyplot as plt\n",
    "%matplotlib inline\n",
    "import seaborn as sns"
   ]
  },
  {
   "cell_type": "markdown",
   "metadata": {},
   "source": [
    "### Import csv files"
   ]
  },
  {
   "cell_type": "code",
   "execution_count": 2,
   "metadata": {},
   "outputs": [
    {
     "name": "stderr",
     "output_type": "stream",
     "text": [
      "/Users/rhoesada/opt/anaconda3/envs/py37/lib/python3.7/site-packages/numpy/lib/arraysetops.py:568: FutureWarning: elementwise comparison failed; returning scalar instead, but in the future will perform elementwise comparison\n",
      "  mask |= (ar1 == a)\n"
     ]
    },
    {
     "data": {
      "text/html": [
       "<div>\n",
       "<style scoped>\n",
       "    .dataframe tbody tr th:only-of-type {\n",
       "        vertical-align: middle;\n",
       "    }\n",
       "\n",
       "    .dataframe tbody tr th {\n",
       "        vertical-align: top;\n",
       "    }\n",
       "\n",
       "    .dataframe thead th {\n",
       "        text-align: right;\n",
       "    }\n",
       "</style>\n",
       "<table border=\"1\" class=\"dataframe\">\n",
       "  <thead>\n",
       "    <tr style=\"text-align: right;\">\n",
       "      <th></th>\n",
       "      <th>date</th>\n",
       "      <th>available</th>\n",
       "      <th>price</th>\n",
       "    </tr>\n",
       "    <tr>\n",
       "      <th>listing_id</th>\n",
       "      <th></th>\n",
       "      <th></th>\n",
       "      <th></th>\n",
       "    </tr>\n",
       "  </thead>\n",
       "  <tbody>\n",
       "    <tr>\n",
       "      <th>241032</th>\n",
       "      <td>2016-01-04</td>\n",
       "      <td>t</td>\n",
       "      <td>$85.00</td>\n",
       "    </tr>\n",
       "    <tr>\n",
       "      <th>241032</th>\n",
       "      <td>2016-01-05</td>\n",
       "      <td>t</td>\n",
       "      <td>$85.00</td>\n",
       "    </tr>\n",
       "    <tr>\n",
       "      <th>241032</th>\n",
       "      <td>2016-01-06</td>\n",
       "      <td>f</td>\n",
       "      <td>NaN</td>\n",
       "    </tr>\n",
       "    <tr>\n",
       "      <th>241032</th>\n",
       "      <td>2016-01-07</td>\n",
       "      <td>f</td>\n",
       "      <td>NaN</td>\n",
       "    </tr>\n",
       "    <tr>\n",
       "      <th>241032</th>\n",
       "      <td>2016-01-08</td>\n",
       "      <td>f</td>\n",
       "      <td>NaN</td>\n",
       "    </tr>\n",
       "  </tbody>\n",
       "</table>\n",
       "</div>"
      ],
      "text/plain": [
       "                  date available   price\n",
       "listing_id                              \n",
       "241032      2016-01-04         t  $85.00\n",
       "241032      2016-01-05         t  $85.00\n",
       "241032      2016-01-06         f     NaN\n",
       "241032      2016-01-07         f     NaN\n",
       "241032      2016-01-08         f     NaN"
      ]
     },
     "execution_count": 2,
     "metadata": {},
     "output_type": "execute_result"
    }
   ],
   "source": [
    "calendar = pd.read_csv('./seattle/calendar.csv', index_col='listing_id')\n",
    "calendar.head()"
   ]
  },
  {
   "cell_type": "code",
   "execution_count": 3,
   "metadata": {},
   "outputs": [
    {
     "data": {
      "text/html": [
       "<div>\n",
       "<style scoped>\n",
       "    .dataframe tbody tr th:only-of-type {\n",
       "        vertical-align: middle;\n",
       "    }\n",
       "\n",
       "    .dataframe tbody tr th {\n",
       "        vertical-align: top;\n",
       "    }\n",
       "\n",
       "    .dataframe thead th {\n",
       "        text-align: right;\n",
       "    }\n",
       "</style>\n",
       "<table border=\"1\" class=\"dataframe\">\n",
       "  <thead>\n",
       "    <tr style=\"text-align: right;\">\n",
       "      <th></th>\n",
       "      <th>listing_url</th>\n",
       "      <th>scrape_id</th>\n",
       "      <th>last_scraped</th>\n",
       "      <th>name</th>\n",
       "      <th>summary</th>\n",
       "      <th>space</th>\n",
       "      <th>description</th>\n",
       "      <th>experiences_offered</th>\n",
       "      <th>neighborhood_overview</th>\n",
       "      <th>notes</th>\n",
       "      <th>...</th>\n",
       "      <th>review_scores_value</th>\n",
       "      <th>requires_license</th>\n",
       "      <th>license</th>\n",
       "      <th>jurisdiction_names</th>\n",
       "      <th>instant_bookable</th>\n",
       "      <th>cancellation_policy</th>\n",
       "      <th>require_guest_profile_picture</th>\n",
       "      <th>require_guest_phone_verification</th>\n",
       "      <th>calculated_host_listings_count</th>\n",
       "      <th>reviews_per_month</th>\n",
       "    </tr>\n",
       "    <tr>\n",
       "      <th>id</th>\n",
       "      <th></th>\n",
       "      <th></th>\n",
       "      <th></th>\n",
       "      <th></th>\n",
       "      <th></th>\n",
       "      <th></th>\n",
       "      <th></th>\n",
       "      <th></th>\n",
       "      <th></th>\n",
       "      <th></th>\n",
       "      <th></th>\n",
       "      <th></th>\n",
       "      <th></th>\n",
       "      <th></th>\n",
       "      <th></th>\n",
       "      <th></th>\n",
       "      <th></th>\n",
       "      <th></th>\n",
       "      <th></th>\n",
       "      <th></th>\n",
       "      <th></th>\n",
       "    </tr>\n",
       "  </thead>\n",
       "  <tbody>\n",
       "    <tr>\n",
       "      <th>241032</th>\n",
       "      <td>https://www.airbnb.com/rooms/241032</td>\n",
       "      <td>20160104002432</td>\n",
       "      <td>2016-01-04</td>\n",
       "      <td>Stylish Queen Anne Apartment</td>\n",
       "      <td>NaN</td>\n",
       "      <td>Make your self at home in this charming one-be...</td>\n",
       "      <td>Make your self at home in this charming one-be...</td>\n",
       "      <td>none</td>\n",
       "      <td>NaN</td>\n",
       "      <td>NaN</td>\n",
       "      <td>...</td>\n",
       "      <td>10.0</td>\n",
       "      <td>f</td>\n",
       "      <td>NaN</td>\n",
       "      <td>WASHINGTON</td>\n",
       "      <td>f</td>\n",
       "      <td>moderate</td>\n",
       "      <td>f</td>\n",
       "      <td>f</td>\n",
       "      <td>2</td>\n",
       "      <td>4.07</td>\n",
       "    </tr>\n",
       "    <tr>\n",
       "      <th>953595</th>\n",
       "      <td>https://www.airbnb.com/rooms/953595</td>\n",
       "      <td>20160104002432</td>\n",
       "      <td>2016-01-04</td>\n",
       "      <td>Bright &amp; Airy Queen Anne Apartment</td>\n",
       "      <td>Chemically sensitive? We've removed the irrita...</td>\n",
       "      <td>Beautiful, hypoallergenic apartment in an extr...</td>\n",
       "      <td>Chemically sensitive? We've removed the irrita...</td>\n",
       "      <td>none</td>\n",
       "      <td>Queen Anne is a wonderful, truly functional vi...</td>\n",
       "      <td>What's up with the free pillows?  Our home was...</td>\n",
       "      <td>...</td>\n",
       "      <td>10.0</td>\n",
       "      <td>f</td>\n",
       "      <td>NaN</td>\n",
       "      <td>WASHINGTON</td>\n",
       "      <td>f</td>\n",
       "      <td>strict</td>\n",
       "      <td>t</td>\n",
       "      <td>t</td>\n",
       "      <td>6</td>\n",
       "      <td>1.48</td>\n",
       "    </tr>\n",
       "    <tr>\n",
       "      <th>3308979</th>\n",
       "      <td>https://www.airbnb.com/rooms/3308979</td>\n",
       "      <td>20160104002432</td>\n",
       "      <td>2016-01-04</td>\n",
       "      <td>New Modern House-Amazing water view</td>\n",
       "      <td>New modern house built in 2013.  Spectacular s...</td>\n",
       "      <td>Our house is modern, light and fresh with a wa...</td>\n",
       "      <td>New modern house built in 2013.  Spectacular s...</td>\n",
       "      <td>none</td>\n",
       "      <td>Upper Queen Anne is a charming neighborhood fu...</td>\n",
       "      <td>Our house is located just 5 short blocks to To...</td>\n",
       "      <td>...</td>\n",
       "      <td>10.0</td>\n",
       "      <td>f</td>\n",
       "      <td>NaN</td>\n",
       "      <td>WASHINGTON</td>\n",
       "      <td>f</td>\n",
       "      <td>strict</td>\n",
       "      <td>f</td>\n",
       "      <td>f</td>\n",
       "      <td>2</td>\n",
       "      <td>1.15</td>\n",
       "    </tr>\n",
       "    <tr>\n",
       "      <th>7421966</th>\n",
       "      <td>https://www.airbnb.com/rooms/7421966</td>\n",
       "      <td>20160104002432</td>\n",
       "      <td>2016-01-04</td>\n",
       "      <td>Queen Anne Chateau</td>\n",
       "      <td>A charming apartment that sits atop Queen Anne...</td>\n",
       "      <td>NaN</td>\n",
       "      <td>A charming apartment that sits atop Queen Anne...</td>\n",
       "      <td>none</td>\n",
       "      <td>NaN</td>\n",
       "      <td>NaN</td>\n",
       "      <td>...</td>\n",
       "      <td>NaN</td>\n",
       "      <td>f</td>\n",
       "      <td>NaN</td>\n",
       "      <td>WASHINGTON</td>\n",
       "      <td>f</td>\n",
       "      <td>flexible</td>\n",
       "      <td>f</td>\n",
       "      <td>f</td>\n",
       "      <td>1</td>\n",
       "      <td>NaN</td>\n",
       "    </tr>\n",
       "    <tr>\n",
       "      <th>278830</th>\n",
       "      <td>https://www.airbnb.com/rooms/278830</td>\n",
       "      <td>20160104002432</td>\n",
       "      <td>2016-01-04</td>\n",
       "      <td>Charming craftsman 3 bdm house</td>\n",
       "      <td>Cozy family craftman house in beautiful neighb...</td>\n",
       "      <td>Cozy family craftman house in beautiful neighb...</td>\n",
       "      <td>Cozy family craftman house in beautiful neighb...</td>\n",
       "      <td>none</td>\n",
       "      <td>We are in the beautiful neighborhood of Queen ...</td>\n",
       "      <td>Belltown</td>\n",
       "      <td>...</td>\n",
       "      <td>9.0</td>\n",
       "      <td>f</td>\n",
       "      <td>NaN</td>\n",
       "      <td>WASHINGTON</td>\n",
       "      <td>f</td>\n",
       "      <td>strict</td>\n",
       "      <td>f</td>\n",
       "      <td>f</td>\n",
       "      <td>1</td>\n",
       "      <td>0.89</td>\n",
       "    </tr>\n",
       "  </tbody>\n",
       "</table>\n",
       "<p>5 rows × 91 columns</p>\n",
       "</div>"
      ],
      "text/plain": [
       "                                  listing_url       scrape_id last_scraped  \\\n",
       "id                                                                           \n",
       "241032    https://www.airbnb.com/rooms/241032  20160104002432   2016-01-04   \n",
       "953595    https://www.airbnb.com/rooms/953595  20160104002432   2016-01-04   \n",
       "3308979  https://www.airbnb.com/rooms/3308979  20160104002432   2016-01-04   \n",
       "7421966  https://www.airbnb.com/rooms/7421966  20160104002432   2016-01-04   \n",
       "278830    https://www.airbnb.com/rooms/278830  20160104002432   2016-01-04   \n",
       "\n",
       "                                        name  \\\n",
       "id                                             \n",
       "241032          Stylish Queen Anne Apartment   \n",
       "953595    Bright & Airy Queen Anne Apartment   \n",
       "3308979  New Modern House-Amazing water view   \n",
       "7421966                   Queen Anne Chateau   \n",
       "278830        Charming craftsman 3 bdm house   \n",
       "\n",
       "                                                   summary  \\\n",
       "id                                                           \n",
       "241032                                                 NaN   \n",
       "953595   Chemically sensitive? We've removed the irrita...   \n",
       "3308979  New modern house built in 2013.  Spectacular s...   \n",
       "7421966  A charming apartment that sits atop Queen Anne...   \n",
       "278830   Cozy family craftman house in beautiful neighb...   \n",
       "\n",
       "                                                     space  \\\n",
       "id                                                           \n",
       "241032   Make your self at home in this charming one-be...   \n",
       "953595   Beautiful, hypoallergenic apartment in an extr...   \n",
       "3308979  Our house is modern, light and fresh with a wa...   \n",
       "7421966                                                NaN   \n",
       "278830   Cozy family craftman house in beautiful neighb...   \n",
       "\n",
       "                                               description  \\\n",
       "id                                                           \n",
       "241032   Make your self at home in this charming one-be...   \n",
       "953595   Chemically sensitive? We've removed the irrita...   \n",
       "3308979  New modern house built in 2013.  Spectacular s...   \n",
       "7421966  A charming apartment that sits atop Queen Anne...   \n",
       "278830   Cozy family craftman house in beautiful neighb...   \n",
       "\n",
       "        experiences_offered  \\\n",
       "id                            \n",
       "241032                 none   \n",
       "953595                 none   \n",
       "3308979                none   \n",
       "7421966                none   \n",
       "278830                 none   \n",
       "\n",
       "                                     neighborhood_overview  \\\n",
       "id                                                           \n",
       "241032                                                 NaN   \n",
       "953595   Queen Anne is a wonderful, truly functional vi...   \n",
       "3308979  Upper Queen Anne is a charming neighborhood fu...   \n",
       "7421966                                                NaN   \n",
       "278830   We are in the beautiful neighborhood of Queen ...   \n",
       "\n",
       "                                                     notes  ...  \\\n",
       "id                                                          ...   \n",
       "241032                                                 NaN  ...   \n",
       "953595   What's up with the free pillows?  Our home was...  ...   \n",
       "3308979  Our house is located just 5 short blocks to To...  ...   \n",
       "7421966                                                NaN  ...   \n",
       "278830                                           Belltown   ...   \n",
       "\n",
       "        review_scores_value requires_license license jurisdiction_names  \\\n",
       "id                                                                        \n",
       "241032                 10.0                f     NaN         WASHINGTON   \n",
       "953595                 10.0                f     NaN         WASHINGTON   \n",
       "3308979                10.0                f     NaN         WASHINGTON   \n",
       "7421966                 NaN                f     NaN         WASHINGTON   \n",
       "278830                  9.0                f     NaN         WASHINGTON   \n",
       "\n",
       "        instant_bookable  cancellation_policy require_guest_profile_picture  \\\n",
       "id                                                                            \n",
       "241032                 f             moderate                             f   \n",
       "953595                 f               strict                             t   \n",
       "3308979                f               strict                             f   \n",
       "7421966                f             flexible                             f   \n",
       "278830                 f               strict                             f   \n",
       "\n",
       "        require_guest_phone_verification calculated_host_listings_count  \\\n",
       "id                                                                        \n",
       "241032                                 f                              2   \n",
       "953595                                 t                              6   \n",
       "3308979                                f                              2   \n",
       "7421966                                f                              1   \n",
       "278830                                 f                              1   \n",
       "\n",
       "        reviews_per_month  \n",
       "id                         \n",
       "241032               4.07  \n",
       "953595               1.48  \n",
       "3308979              1.15  \n",
       "7421966               NaN  \n",
       "278830               0.89  \n",
       "\n",
       "[5 rows x 91 columns]"
      ]
     },
     "execution_count": 3,
     "metadata": {},
     "output_type": "execute_result"
    }
   ],
   "source": [
    "listings = pd.read_csv('./seattle/listings.csv', index_col='id')\n",
    "listings.head()"
   ]
  },
  {
   "cell_type": "code",
   "execution_count": 4,
   "metadata": {},
   "outputs": [
    {
     "data": {
      "text/html": [
       "<div>\n",
       "<style scoped>\n",
       "    .dataframe tbody tr th:only-of-type {\n",
       "        vertical-align: middle;\n",
       "    }\n",
       "\n",
       "    .dataframe tbody tr th {\n",
       "        vertical-align: top;\n",
       "    }\n",
       "\n",
       "    .dataframe thead th {\n",
       "        text-align: right;\n",
       "    }\n",
       "</style>\n",
       "<table border=\"1\" class=\"dataframe\">\n",
       "  <thead>\n",
       "    <tr style=\"text-align: right;\">\n",
       "      <th></th>\n",
       "      <th>id</th>\n",
       "      <th>date</th>\n",
       "      <th>reviewer_id</th>\n",
       "      <th>reviewer_name</th>\n",
       "      <th>comments</th>\n",
       "    </tr>\n",
       "    <tr>\n",
       "      <th>listing_id</th>\n",
       "      <th></th>\n",
       "      <th></th>\n",
       "      <th></th>\n",
       "      <th></th>\n",
       "      <th></th>\n",
       "    </tr>\n",
       "  </thead>\n",
       "  <tbody>\n",
       "    <tr>\n",
       "      <th>7202016</th>\n",
       "      <td>38917982</td>\n",
       "      <td>2015-07-19</td>\n",
       "      <td>28943674</td>\n",
       "      <td>Bianca</td>\n",
       "      <td>Cute and cozy place. Perfect location to every...</td>\n",
       "    </tr>\n",
       "    <tr>\n",
       "      <th>7202016</th>\n",
       "      <td>39087409</td>\n",
       "      <td>2015-07-20</td>\n",
       "      <td>32440555</td>\n",
       "      <td>Frank</td>\n",
       "      <td>Kelly has a great room in a very central locat...</td>\n",
       "    </tr>\n",
       "    <tr>\n",
       "      <th>7202016</th>\n",
       "      <td>39820030</td>\n",
       "      <td>2015-07-26</td>\n",
       "      <td>37722850</td>\n",
       "      <td>Ian</td>\n",
       "      <td>Very spacious apartment, and in a great neighb...</td>\n",
       "    </tr>\n",
       "    <tr>\n",
       "      <th>7202016</th>\n",
       "      <td>40813543</td>\n",
       "      <td>2015-08-02</td>\n",
       "      <td>33671805</td>\n",
       "      <td>George</td>\n",
       "      <td>Close to Seattle Center and all it has to offe...</td>\n",
       "    </tr>\n",
       "    <tr>\n",
       "      <th>7202016</th>\n",
       "      <td>41986501</td>\n",
       "      <td>2015-08-10</td>\n",
       "      <td>34959538</td>\n",
       "      <td>Ming</td>\n",
       "      <td>Kelly was a great host and very accommodating ...</td>\n",
       "    </tr>\n",
       "  </tbody>\n",
       "</table>\n",
       "</div>"
      ],
      "text/plain": [
       "                  id        date  reviewer_id reviewer_name  \\\n",
       "listing_id                                                    \n",
       "7202016     38917982  2015-07-19     28943674        Bianca   \n",
       "7202016     39087409  2015-07-20     32440555         Frank   \n",
       "7202016     39820030  2015-07-26     37722850           Ian   \n",
       "7202016     40813543  2015-08-02     33671805        George   \n",
       "7202016     41986501  2015-08-10     34959538          Ming   \n",
       "\n",
       "                                                     comments  \n",
       "listing_id                                                     \n",
       "7202016     Cute and cozy place. Perfect location to every...  \n",
       "7202016     Kelly has a great room in a very central locat...  \n",
       "7202016     Very spacious apartment, and in a great neighb...  \n",
       "7202016     Close to Seattle Center and all it has to offe...  \n",
       "7202016     Kelly was a great host and very accommodating ...  "
      ]
     },
     "execution_count": 4,
     "metadata": {},
     "output_type": "execute_result"
    }
   ],
   "source": [
    "reviews = pd.read_csv('./seattle/reviews.csv', index_col='listing_id')\n",
    "reviews.head()"
   ]
  },
  {
   "cell_type": "markdown",
   "metadata": {},
   "source": [
    "### Data exploration"
   ]
  },
  {
   "cell_type": "code",
   "execution_count": 5,
   "metadata": {},
   "outputs": [
    {
     "data": {
      "text/plain": [
       "(1393570, 3)"
      ]
     },
     "execution_count": 5,
     "metadata": {},
     "output_type": "execute_result"
    }
   ],
   "source": [
    "calendar.shape"
   ]
  },
  {
   "cell_type": "code",
   "execution_count": 6,
   "metadata": {},
   "outputs": [
    {
     "data": {
      "text/plain": [
       "(3818, 91)"
      ]
     },
     "execution_count": 6,
     "metadata": {},
     "output_type": "execute_result"
    }
   ],
   "source": [
    "listings.shape"
   ]
  },
  {
   "cell_type": "code",
   "execution_count": 7,
   "metadata": {},
   "outputs": [
    {
     "data": {
      "text/plain": [
       "(84849, 5)"
      ]
     },
     "execution_count": 7,
     "metadata": {},
     "output_type": "execute_result"
    }
   ],
   "source": [
    "reviews.shape"
   ]
  },
  {
   "cell_type": "code",
   "execution_count": 8,
   "metadata": {},
   "outputs": [
    {
     "data": {
      "text/plain": [
       "Int64Index([  241032,   953595,  3308979,  7421966,   278830,  5956968,\n",
       "             1909058,   856550,  4948745,  2493658,\n",
       "            ...\n",
       "             1844791,  6120046,   262764,  8578490,  3383329,  8101950,\n",
       "             8902327, 10267360,  9604740, 10208623],\n",
       "           dtype='int64', name='listing_id', length=3818)"
      ]
     },
     "execution_count": 8,
     "metadata": {},
     "output_type": "execute_result"
    }
   ],
   "source": [
    "calendar.index.unique()"
   ]
  },
  {
   "cell_type": "code",
   "execution_count": 9,
   "metadata": {},
   "outputs": [
    {
     "data": {
      "text/plain": [
       "Int64Index([  241032,   953595,  3308979,  7421966,   278830,  5956968,\n",
       "             1909058,   856550,  4948745,  2493658,\n",
       "            ...\n",
       "             1844791,  6120046,   262764,  8578490,  3383329,  8101950,\n",
       "             8902327, 10267360,  9604740, 10208623],\n",
       "           dtype='int64', name='id', length=3818)"
      ]
     },
     "execution_count": 9,
     "metadata": {},
     "output_type": "execute_result"
    }
   ],
   "source": [
    "listings.index.unique()"
   ]
  },
  {
   "cell_type": "code",
   "execution_count": 10,
   "metadata": {},
   "outputs": [
    {
     "data": {
      "text/plain": [
       "Int64Index([7202016, 3946674, 7833113, 8308353, 4277026, 7735100, 4701141,\n",
       "            7934963, 2934389, 6888107,\n",
       "            ...\n",
       "            9137899, 6971260, 3258386, 9352778,  830948, 4555997, 3424991,\n",
       "            1179538, 3624990, 9727246],\n",
       "           dtype='int64', name='listing_id', length=3191)"
      ]
     },
     "execution_count": 10,
     "metadata": {},
     "output_type": "execute_result"
    }
   ],
   "source": [
    "reviews.index.unique()"
   ]
  },
  {
   "cell_type": "markdown",
   "metadata": {},
   "source": [
    "### Concat dataframe"
   ]
  },
  {
   "cell_type": "code",
   "execution_count": 11,
   "metadata": {},
   "outputs": [
    {
     "data": {
      "text/html": [
       "<div>\n",
       "<style scoped>\n",
       "    .dataframe tbody tr th:only-of-type {\n",
       "        vertical-align: middle;\n",
       "    }\n",
       "\n",
       "    .dataframe tbody tr th {\n",
       "        vertical-align: top;\n",
       "    }\n",
       "\n",
       "    .dataframe thead th {\n",
       "        text-align: right;\n",
       "    }\n",
       "</style>\n",
       "<table border=\"1\" class=\"dataframe\">\n",
       "  <thead>\n",
       "    <tr style=\"text-align: right;\">\n",
       "      <th></th>\n",
       "      <th>listing_url</th>\n",
       "      <th>scrape_id</th>\n",
       "      <th>last_scraped</th>\n",
       "      <th>name</th>\n",
       "      <th>summary</th>\n",
       "      <th>space</th>\n",
       "      <th>description</th>\n",
       "      <th>experiences_offered</th>\n",
       "      <th>neighborhood_overview</th>\n",
       "      <th>notes</th>\n",
       "      <th>...</th>\n",
       "      <th>calculated_host_listings_count</th>\n",
       "      <th>reviews_per_month</th>\n",
       "      <th>date_x</th>\n",
       "      <th>available</th>\n",
       "      <th>price_y</th>\n",
       "      <th>id</th>\n",
       "      <th>date_y</th>\n",
       "      <th>reviewer_id</th>\n",
       "      <th>reviewer_name</th>\n",
       "      <th>comments</th>\n",
       "    </tr>\n",
       "  </thead>\n",
       "  <tbody>\n",
       "    <tr>\n",
       "      <th>3335</th>\n",
       "      <td>https://www.airbnb.com/rooms/3335</td>\n",
       "      <td>20160104002432</td>\n",
       "      <td>2016-01-04</td>\n",
       "      <td>Sweet Seattle Urban Homestead 2 Bdr</td>\n",
       "      <td>Welcome! If you stay here you will be living i...</td>\n",
       "      <td>Welcome!  Come enjoy your time in Seattle at a...</td>\n",
       "      <td>Welcome! If you stay here you will be living i...</td>\n",
       "      <td>none</td>\n",
       "      <td>This is a very diverse neighborhood with a var...</td>\n",
       "      <td>We are an urban farmy oasis and invite you to ...</td>\n",
       "      <td>...</td>\n",
       "      <td>4</td>\n",
       "      <td>NaN</td>\n",
       "      <td>2016-01-04</td>\n",
       "      <td>f</td>\n",
       "      <td>NaN</td>\n",
       "      <td>NaN</td>\n",
       "      <td>NaN</td>\n",
       "      <td>NaN</td>\n",
       "      <td>NaN</td>\n",
       "      <td>NaN</td>\n",
       "    </tr>\n",
       "    <tr>\n",
       "      <th>3335</th>\n",
       "      <td>https://www.airbnb.com/rooms/3335</td>\n",
       "      <td>20160104002432</td>\n",
       "      <td>2016-01-04</td>\n",
       "      <td>Sweet Seattle Urban Homestead 2 Bdr</td>\n",
       "      <td>Welcome! If you stay here you will be living i...</td>\n",
       "      <td>Welcome!  Come enjoy your time in Seattle at a...</td>\n",
       "      <td>Welcome! If you stay here you will be living i...</td>\n",
       "      <td>none</td>\n",
       "      <td>This is a very diverse neighborhood with a var...</td>\n",
       "      <td>We are an urban farmy oasis and invite you to ...</td>\n",
       "      <td>...</td>\n",
       "      <td>4</td>\n",
       "      <td>NaN</td>\n",
       "      <td>2016-01-05</td>\n",
       "      <td>f</td>\n",
       "      <td>NaN</td>\n",
       "      <td>NaN</td>\n",
       "      <td>NaN</td>\n",
       "      <td>NaN</td>\n",
       "      <td>NaN</td>\n",
       "      <td>NaN</td>\n",
       "    </tr>\n",
       "    <tr>\n",
       "      <th>3335</th>\n",
       "      <td>https://www.airbnb.com/rooms/3335</td>\n",
       "      <td>20160104002432</td>\n",
       "      <td>2016-01-04</td>\n",
       "      <td>Sweet Seattle Urban Homestead 2 Bdr</td>\n",
       "      <td>Welcome! If you stay here you will be living i...</td>\n",
       "      <td>Welcome!  Come enjoy your time in Seattle at a...</td>\n",
       "      <td>Welcome! If you stay here you will be living i...</td>\n",
       "      <td>none</td>\n",
       "      <td>This is a very diverse neighborhood with a var...</td>\n",
       "      <td>We are an urban farmy oasis and invite you to ...</td>\n",
       "      <td>...</td>\n",
       "      <td>4</td>\n",
       "      <td>NaN</td>\n",
       "      <td>2016-01-06</td>\n",
       "      <td>f</td>\n",
       "      <td>NaN</td>\n",
       "      <td>NaN</td>\n",
       "      <td>NaN</td>\n",
       "      <td>NaN</td>\n",
       "      <td>NaN</td>\n",
       "      <td>NaN</td>\n",
       "    </tr>\n",
       "    <tr>\n",
       "      <th>3335</th>\n",
       "      <td>https://www.airbnb.com/rooms/3335</td>\n",
       "      <td>20160104002432</td>\n",
       "      <td>2016-01-04</td>\n",
       "      <td>Sweet Seattle Urban Homestead 2 Bdr</td>\n",
       "      <td>Welcome! If you stay here you will be living i...</td>\n",
       "      <td>Welcome!  Come enjoy your time in Seattle at a...</td>\n",
       "      <td>Welcome! If you stay here you will be living i...</td>\n",
       "      <td>none</td>\n",
       "      <td>This is a very diverse neighborhood with a var...</td>\n",
       "      <td>We are an urban farmy oasis and invite you to ...</td>\n",
       "      <td>...</td>\n",
       "      <td>4</td>\n",
       "      <td>NaN</td>\n",
       "      <td>2016-01-07</td>\n",
       "      <td>f</td>\n",
       "      <td>NaN</td>\n",
       "      <td>NaN</td>\n",
       "      <td>NaN</td>\n",
       "      <td>NaN</td>\n",
       "      <td>NaN</td>\n",
       "      <td>NaN</td>\n",
       "    </tr>\n",
       "    <tr>\n",
       "      <th>3335</th>\n",
       "      <td>https://www.airbnb.com/rooms/3335</td>\n",
       "      <td>20160104002432</td>\n",
       "      <td>2016-01-04</td>\n",
       "      <td>Sweet Seattle Urban Homestead 2 Bdr</td>\n",
       "      <td>Welcome! If you stay here you will be living i...</td>\n",
       "      <td>Welcome!  Come enjoy your time in Seattle at a...</td>\n",
       "      <td>Welcome! If you stay here you will be living i...</td>\n",
       "      <td>none</td>\n",
       "      <td>This is a very diverse neighborhood with a var...</td>\n",
       "      <td>We are an urban farmy oasis and invite you to ...</td>\n",
       "      <td>...</td>\n",
       "      <td>4</td>\n",
       "      <td>NaN</td>\n",
       "      <td>2016-01-08</td>\n",
       "      <td>f</td>\n",
       "      <td>NaN</td>\n",
       "      <td>NaN</td>\n",
       "      <td>NaN</td>\n",
       "      <td>NaN</td>\n",
       "      <td>NaN</td>\n",
       "      <td>NaN</td>\n",
       "    </tr>\n",
       "    <tr>\n",
       "      <th>...</th>\n",
       "      <td>...</td>\n",
       "      <td>...</td>\n",
       "      <td>...</td>\n",
       "      <td>...</td>\n",
       "      <td>...</td>\n",
       "      <td>...</td>\n",
       "      <td>...</td>\n",
       "      <td>...</td>\n",
       "      <td>...</td>\n",
       "      <td>...</td>\n",
       "      <td>...</td>\n",
       "      <td>...</td>\n",
       "      <td>...</td>\n",
       "      <td>...</td>\n",
       "      <td>...</td>\n",
       "      <td>...</td>\n",
       "      <td>...</td>\n",
       "      <td>...</td>\n",
       "      <td>...</td>\n",
       "      <td>...</td>\n",
       "      <td>...</td>\n",
       "    </tr>\n",
       "    <tr>\n",
       "      <th>3335</th>\n",
       "      <td>https://www.airbnb.com/rooms/3335</td>\n",
       "      <td>20160104002432</td>\n",
       "      <td>2016-01-04</td>\n",
       "      <td>Sweet Seattle Urban Homestead 2 Bdr</td>\n",
       "      <td>Welcome! If you stay here you will be living i...</td>\n",
       "      <td>Welcome!  Come enjoy your time in Seattle at a...</td>\n",
       "      <td>Welcome! If you stay here you will be living i...</td>\n",
       "      <td>none</td>\n",
       "      <td>This is a very diverse neighborhood with a var...</td>\n",
       "      <td>We are an urban farmy oasis and invite you to ...</td>\n",
       "      <td>...</td>\n",
       "      <td>4</td>\n",
       "      <td>NaN</td>\n",
       "      <td>2016-04-08</td>\n",
       "      <td>t</td>\n",
       "      <td>$120.00</td>\n",
       "      <td>NaN</td>\n",
       "      <td>NaN</td>\n",
       "      <td>NaN</td>\n",
       "      <td>NaN</td>\n",
       "      <td>NaN</td>\n",
       "    </tr>\n",
       "    <tr>\n",
       "      <th>3335</th>\n",
       "      <td>https://www.airbnb.com/rooms/3335</td>\n",
       "      <td>20160104002432</td>\n",
       "      <td>2016-01-04</td>\n",
       "      <td>Sweet Seattle Urban Homestead 2 Bdr</td>\n",
       "      <td>Welcome! If you stay here you will be living i...</td>\n",
       "      <td>Welcome!  Come enjoy your time in Seattle at a...</td>\n",
       "      <td>Welcome! If you stay here you will be living i...</td>\n",
       "      <td>none</td>\n",
       "      <td>This is a very diverse neighborhood with a var...</td>\n",
       "      <td>We are an urban farmy oasis and invite you to ...</td>\n",
       "      <td>...</td>\n",
       "      <td>4</td>\n",
       "      <td>NaN</td>\n",
       "      <td>2016-04-09</td>\n",
       "      <td>t</td>\n",
       "      <td>$120.00</td>\n",
       "      <td>NaN</td>\n",
       "      <td>NaN</td>\n",
       "      <td>NaN</td>\n",
       "      <td>NaN</td>\n",
       "      <td>NaN</td>\n",
       "    </tr>\n",
       "    <tr>\n",
       "      <th>3335</th>\n",
       "      <td>https://www.airbnb.com/rooms/3335</td>\n",
       "      <td>20160104002432</td>\n",
       "      <td>2016-01-04</td>\n",
       "      <td>Sweet Seattle Urban Homestead 2 Bdr</td>\n",
       "      <td>Welcome! If you stay here you will be living i...</td>\n",
       "      <td>Welcome!  Come enjoy your time in Seattle at a...</td>\n",
       "      <td>Welcome! If you stay here you will be living i...</td>\n",
       "      <td>none</td>\n",
       "      <td>This is a very diverse neighborhood with a var...</td>\n",
       "      <td>We are an urban farmy oasis and invite you to ...</td>\n",
       "      <td>...</td>\n",
       "      <td>4</td>\n",
       "      <td>NaN</td>\n",
       "      <td>2016-04-10</td>\n",
       "      <td>t</td>\n",
       "      <td>$120.00</td>\n",
       "      <td>NaN</td>\n",
       "      <td>NaN</td>\n",
       "      <td>NaN</td>\n",
       "      <td>NaN</td>\n",
       "      <td>NaN</td>\n",
       "    </tr>\n",
       "    <tr>\n",
       "      <th>3335</th>\n",
       "      <td>https://www.airbnb.com/rooms/3335</td>\n",
       "      <td>20160104002432</td>\n",
       "      <td>2016-01-04</td>\n",
       "      <td>Sweet Seattle Urban Homestead 2 Bdr</td>\n",
       "      <td>Welcome! If you stay here you will be living i...</td>\n",
       "      <td>Welcome!  Come enjoy your time in Seattle at a...</td>\n",
       "      <td>Welcome! If you stay here you will be living i...</td>\n",
       "      <td>none</td>\n",
       "      <td>This is a very diverse neighborhood with a var...</td>\n",
       "      <td>We are an urban farmy oasis and invite you to ...</td>\n",
       "      <td>...</td>\n",
       "      <td>4</td>\n",
       "      <td>NaN</td>\n",
       "      <td>2016-04-11</td>\n",
       "      <td>t</td>\n",
       "      <td>$120.00</td>\n",
       "      <td>NaN</td>\n",
       "      <td>NaN</td>\n",
       "      <td>NaN</td>\n",
       "      <td>NaN</td>\n",
       "      <td>NaN</td>\n",
       "    </tr>\n",
       "    <tr>\n",
       "      <th>3335</th>\n",
       "      <td>https://www.airbnb.com/rooms/3335</td>\n",
       "      <td>20160104002432</td>\n",
       "      <td>2016-01-04</td>\n",
       "      <td>Sweet Seattle Urban Homestead 2 Bdr</td>\n",
       "      <td>Welcome! If you stay here you will be living i...</td>\n",
       "      <td>Welcome!  Come enjoy your time in Seattle at a...</td>\n",
       "      <td>Welcome! If you stay here you will be living i...</td>\n",
       "      <td>none</td>\n",
       "      <td>This is a very diverse neighborhood with a var...</td>\n",
       "      <td>We are an urban farmy oasis and invite you to ...</td>\n",
       "      <td>...</td>\n",
       "      <td>4</td>\n",
       "      <td>NaN</td>\n",
       "      <td>2016-04-12</td>\n",
       "      <td>t</td>\n",
       "      <td>$120.00</td>\n",
       "      <td>NaN</td>\n",
       "      <td>NaN</td>\n",
       "      <td>NaN</td>\n",
       "      <td>NaN</td>\n",
       "      <td>NaN</td>\n",
       "    </tr>\n",
       "  </tbody>\n",
       "</table>\n",
       "<p>100 rows × 99 columns</p>\n",
       "</div>"
      ],
      "text/plain": [
       "                            listing_url       scrape_id last_scraped  \\\n",
       "3335  https://www.airbnb.com/rooms/3335  20160104002432   2016-01-04   \n",
       "3335  https://www.airbnb.com/rooms/3335  20160104002432   2016-01-04   \n",
       "3335  https://www.airbnb.com/rooms/3335  20160104002432   2016-01-04   \n",
       "3335  https://www.airbnb.com/rooms/3335  20160104002432   2016-01-04   \n",
       "3335  https://www.airbnb.com/rooms/3335  20160104002432   2016-01-04   \n",
       "...                                 ...             ...          ...   \n",
       "3335  https://www.airbnb.com/rooms/3335  20160104002432   2016-01-04   \n",
       "3335  https://www.airbnb.com/rooms/3335  20160104002432   2016-01-04   \n",
       "3335  https://www.airbnb.com/rooms/3335  20160104002432   2016-01-04   \n",
       "3335  https://www.airbnb.com/rooms/3335  20160104002432   2016-01-04   \n",
       "3335  https://www.airbnb.com/rooms/3335  20160104002432   2016-01-04   \n",
       "\n",
       "                                     name  \\\n",
       "3335  Sweet Seattle Urban Homestead 2 Bdr   \n",
       "3335  Sweet Seattle Urban Homestead 2 Bdr   \n",
       "3335  Sweet Seattle Urban Homestead 2 Bdr   \n",
       "3335  Sweet Seattle Urban Homestead 2 Bdr   \n",
       "3335  Sweet Seattle Urban Homestead 2 Bdr   \n",
       "...                                   ...   \n",
       "3335  Sweet Seattle Urban Homestead 2 Bdr   \n",
       "3335  Sweet Seattle Urban Homestead 2 Bdr   \n",
       "3335  Sweet Seattle Urban Homestead 2 Bdr   \n",
       "3335  Sweet Seattle Urban Homestead 2 Bdr   \n",
       "3335  Sweet Seattle Urban Homestead 2 Bdr   \n",
       "\n",
       "                                                summary  \\\n",
       "3335  Welcome! If you stay here you will be living i...   \n",
       "3335  Welcome! If you stay here you will be living i...   \n",
       "3335  Welcome! If you stay here you will be living i...   \n",
       "3335  Welcome! If you stay here you will be living i...   \n",
       "3335  Welcome! If you stay here you will be living i...   \n",
       "...                                                 ...   \n",
       "3335  Welcome! If you stay here you will be living i...   \n",
       "3335  Welcome! If you stay here you will be living i...   \n",
       "3335  Welcome! If you stay here you will be living i...   \n",
       "3335  Welcome! If you stay here you will be living i...   \n",
       "3335  Welcome! If you stay here you will be living i...   \n",
       "\n",
       "                                                  space  \\\n",
       "3335  Welcome!  Come enjoy your time in Seattle at a...   \n",
       "3335  Welcome!  Come enjoy your time in Seattle at a...   \n",
       "3335  Welcome!  Come enjoy your time in Seattle at a...   \n",
       "3335  Welcome!  Come enjoy your time in Seattle at a...   \n",
       "3335  Welcome!  Come enjoy your time in Seattle at a...   \n",
       "...                                                 ...   \n",
       "3335  Welcome!  Come enjoy your time in Seattle at a...   \n",
       "3335  Welcome!  Come enjoy your time in Seattle at a...   \n",
       "3335  Welcome!  Come enjoy your time in Seattle at a...   \n",
       "3335  Welcome!  Come enjoy your time in Seattle at a...   \n",
       "3335  Welcome!  Come enjoy your time in Seattle at a...   \n",
       "\n",
       "                                            description experiences_offered  \\\n",
       "3335  Welcome! If you stay here you will be living i...                none   \n",
       "3335  Welcome! If you stay here you will be living i...                none   \n",
       "3335  Welcome! If you stay here you will be living i...                none   \n",
       "3335  Welcome! If you stay here you will be living i...                none   \n",
       "3335  Welcome! If you stay here you will be living i...                none   \n",
       "...                                                 ...                 ...   \n",
       "3335  Welcome! If you stay here you will be living i...                none   \n",
       "3335  Welcome! If you stay here you will be living i...                none   \n",
       "3335  Welcome! If you stay here you will be living i...                none   \n",
       "3335  Welcome! If you stay here you will be living i...                none   \n",
       "3335  Welcome! If you stay here you will be living i...                none   \n",
       "\n",
       "                                  neighborhood_overview  \\\n",
       "3335  This is a very diverse neighborhood with a var...   \n",
       "3335  This is a very diverse neighborhood with a var...   \n",
       "3335  This is a very diverse neighborhood with a var...   \n",
       "3335  This is a very diverse neighborhood with a var...   \n",
       "3335  This is a very diverse neighborhood with a var...   \n",
       "...                                                 ...   \n",
       "3335  This is a very diverse neighborhood with a var...   \n",
       "3335  This is a very diverse neighborhood with a var...   \n",
       "3335  This is a very diverse neighborhood with a var...   \n",
       "3335  This is a very diverse neighborhood with a var...   \n",
       "3335  This is a very diverse neighborhood with a var...   \n",
       "\n",
       "                                                  notes  ...  \\\n",
       "3335  We are an urban farmy oasis and invite you to ...  ...   \n",
       "3335  We are an urban farmy oasis and invite you to ...  ...   \n",
       "3335  We are an urban farmy oasis and invite you to ...  ...   \n",
       "3335  We are an urban farmy oasis and invite you to ...  ...   \n",
       "3335  We are an urban farmy oasis and invite you to ...  ...   \n",
       "...                                                 ...  ...   \n",
       "3335  We are an urban farmy oasis and invite you to ...  ...   \n",
       "3335  We are an urban farmy oasis and invite you to ...  ...   \n",
       "3335  We are an urban farmy oasis and invite you to ...  ...   \n",
       "3335  We are an urban farmy oasis and invite you to ...  ...   \n",
       "3335  We are an urban farmy oasis and invite you to ...  ...   \n",
       "\n",
       "     calculated_host_listings_count reviews_per_month      date_x available  \\\n",
       "3335                              4               NaN  2016-01-04         f   \n",
       "3335                              4               NaN  2016-01-05         f   \n",
       "3335                              4               NaN  2016-01-06         f   \n",
       "3335                              4               NaN  2016-01-07         f   \n",
       "3335                              4               NaN  2016-01-08         f   \n",
       "...                             ...               ...         ...       ...   \n",
       "3335                              4               NaN  2016-04-08         t   \n",
       "3335                              4               NaN  2016-04-09         t   \n",
       "3335                              4               NaN  2016-04-10         t   \n",
       "3335                              4               NaN  2016-04-11         t   \n",
       "3335                              4               NaN  2016-04-12         t   \n",
       "\n",
       "      price_y  id date_y reviewer_id reviewer_name comments  \n",
       "3335      NaN NaN    NaN         NaN           NaN      NaN  \n",
       "3335      NaN NaN    NaN         NaN           NaN      NaN  \n",
       "3335      NaN NaN    NaN         NaN           NaN      NaN  \n",
       "3335      NaN NaN    NaN         NaN           NaN      NaN  \n",
       "3335      NaN NaN    NaN         NaN           NaN      NaN  \n",
       "...       ...  ..    ...         ...           ...      ...  \n",
       "3335  $120.00 NaN    NaN         NaN           NaN      NaN  \n",
       "3335  $120.00 NaN    NaN         NaN           NaN      NaN  \n",
       "3335  $120.00 NaN    NaN         NaN           NaN      NaN  \n",
       "3335  $120.00 NaN    NaN         NaN           NaN      NaN  \n",
       "3335  $120.00 NaN    NaN         NaN           NaN      NaN  \n",
       "\n",
       "[100 rows x 99 columns]"
      ]
     },
     "execution_count": 11,
     "metadata": {},
     "output_type": "execute_result"
    }
   ],
   "source": [
    "all_frames = listings.join([calendar, reviews], how='outer')\n",
    "all_frames.head(100)"
   ]
  },
  {
   "cell_type": "code",
   "execution_count": 12,
   "metadata": {},
   "outputs": [
    {
     "data": {
      "text/plain": [
       "(31198740, 99)"
      ]
     },
     "execution_count": 12,
     "metadata": {},
     "output_type": "execute_result"
    }
   ],
   "source": [
    "all_frames.shape"
   ]
  },
  {
   "cell_type": "code",
   "execution_count": 13,
   "metadata": {},
   "outputs": [
    {
     "data": {
      "text/plain": [
       "Index(['listing_url', 'scrape_id', 'last_scraped', 'name', 'summary', 'space',\n",
       "       'description', 'experiences_offered', 'neighborhood_overview', 'notes',\n",
       "       'transit', 'thumbnail_url', 'medium_url', 'picture_url',\n",
       "       'xl_picture_url', 'host_id', 'host_url', 'host_name', 'host_since',\n",
       "       'host_location', 'host_about', 'host_response_time',\n",
       "       'host_response_rate', 'host_acceptance_rate', 'host_is_superhost',\n",
       "       'host_thumbnail_url', 'host_picture_url', 'host_neighbourhood',\n",
       "       'host_listings_count', 'host_total_listings_count',\n",
       "       'host_verifications', 'host_has_profile_pic', 'host_identity_verified',\n",
       "       'street', 'neighbourhood', 'neighbourhood_cleansed',\n",
       "       'neighbourhood_group_cleansed', 'city', 'state', 'zipcode', 'market',\n",
       "       'smart_location', 'country_code', 'country', 'latitude', 'longitude',\n",
       "       'is_location_exact', 'property_type', 'room_type', 'accommodates',\n",
       "       'bathrooms', 'bedrooms', 'beds', 'bed_type', 'amenities', 'square_feet',\n",
       "       'price_x', 'weekly_price', 'monthly_price', 'security_deposit',\n",
       "       'cleaning_fee', 'guests_included', 'extra_people', 'minimum_nights',\n",
       "       'maximum_nights', 'calendar_updated', 'has_availability',\n",
       "       'availability_30', 'availability_60', 'availability_90',\n",
       "       'availability_365', 'calendar_last_scraped', 'number_of_reviews',\n",
       "       'first_review', 'last_review', 'review_scores_rating',\n",
       "       'review_scores_accuracy', 'review_scores_cleanliness',\n",
       "       'review_scores_checkin', 'review_scores_communication',\n",
       "       'review_scores_location', 'review_scores_value', 'requires_license',\n",
       "       'license', 'jurisdiction_names', 'instant_bookable',\n",
       "       'cancellation_policy', 'require_guest_profile_picture',\n",
       "       'require_guest_phone_verification', 'calculated_host_listings_count',\n",
       "       'reviews_per_month', 'date_x', 'available', 'price_y', 'id', 'date_y',\n",
       "       'reviewer_id', 'reviewer_name', 'comments'],\n",
       "      dtype='object')"
      ]
     },
     "execution_count": 13,
     "metadata": {},
     "output_type": "execute_result"
    }
   ],
   "source": [
    "all_frames.columns"
   ]
  },
  {
   "cell_type": "markdown",
   "metadata": {},
   "source": [
    "### Number of reviews and monthly price"
   ]
  },
  {
   "cell_type": "code",
   "execution_count": 14,
   "metadata": {},
   "outputs": [
    {
     "data": {
      "text/plain": [
       "7733192    19500.0\n",
       "2459519    19000.0\n",
       "4464824    14900.0\n",
       "7439802    14559.0\n",
       "368403     13500.0\n",
       "            ...   \n",
       "7074024      588.0\n",
       "8566475      550.0\n",
       "799882       520.0\n",
       "6717555      500.0\n",
       "921571       500.0\n",
       "Name: monthly_price, Length: 1517, dtype: float64"
      ]
     },
     "execution_count": 14,
     "metadata": {},
     "output_type": "execute_result"
    }
   ],
   "source": [
    "listing_average_monthly_price = all_frames['monthly_price'].groupby(all_frames.index).max()\n",
    "listing_average_monthly_price = listing_average_monthly_price.replace('[\\$,)]','', regex=True).astype(float).dropna().sort_values(ascending=False)\n",
    "listing_average_monthly_price"
   ]
  },
  {
   "cell_type": "code",
   "execution_count": 15,
   "metadata": {},
   "outputs": [
    {
     "data": {
      "text/plain": [
       "208356    173010\n",
       "365550    170090\n",
       "25002     147460\n",
       "47196     128845\n",
       "63308     116800\n",
       "92835     116435\n",
       "5682      108405\n",
       "279063    107310\n",
       "53867     104755\n",
       "841049    101835\n",
       "Name: reviews_per_month, dtype: int64"
      ]
     },
     "execution_count": 15,
     "metadata": {},
     "output_type": "execute_result"
    }
   ],
   "source": [
    "top_reviews_per_month = all_frames['reviews_per_month'].groupby(all_frames.index).count().sort_values(ascending=False)\n",
    "top_reviews_per_month.head(10)"
   ]
  },
  {
   "cell_type": "code",
   "execution_count": 16,
   "metadata": {},
   "outputs": [
    {
     "data": {
      "text/html": [
       "<div>\n",
       "<style scoped>\n",
       "    .dataframe tbody tr th:only-of-type {\n",
       "        vertical-align: middle;\n",
       "    }\n",
       "\n",
       "    .dataframe tbody tr th {\n",
       "        vertical-align: top;\n",
       "    }\n",
       "\n",
       "    .dataframe thead th {\n",
       "        text-align: right;\n",
       "    }\n",
       "</style>\n",
       "<table border=\"1\" class=\"dataframe\">\n",
       "  <thead>\n",
       "    <tr style=\"text-align: right;\">\n",
       "      <th></th>\n",
       "      <th>monthly_price</th>\n",
       "      <th>reviews_per_month</th>\n",
       "    </tr>\n",
       "  </thead>\n",
       "  <tbody>\n",
       "    <tr>\n",
       "      <th>7733192</th>\n",
       "      <td>19500.0</td>\n",
       "      <td>4380</td>\n",
       "    </tr>\n",
       "    <tr>\n",
       "      <th>2459519</th>\n",
       "      <td>19000.0</td>\n",
       "      <td>4745</td>\n",
       "    </tr>\n",
       "    <tr>\n",
       "      <th>4464824</th>\n",
       "      <td>14900.0</td>\n",
       "      <td>1825</td>\n",
       "    </tr>\n",
       "    <tr>\n",
       "      <th>7439802</th>\n",
       "      <td>14559.0</td>\n",
       "      <td>2555</td>\n",
       "    </tr>\n",
       "    <tr>\n",
       "      <th>368403</th>\n",
       "      <td>13500.0</td>\n",
       "      <td>1825</td>\n",
       "    </tr>\n",
       "    <tr>\n",
       "      <th>...</th>\n",
       "      <td>...</td>\n",
       "      <td>...</td>\n",
       "    </tr>\n",
       "    <tr>\n",
       "      <th>7074024</th>\n",
       "      <td>588.0</td>\n",
       "      <td>1460</td>\n",
       "    </tr>\n",
       "    <tr>\n",
       "      <th>8566475</th>\n",
       "      <td>550.0</td>\n",
       "      <td>0</td>\n",
       "    </tr>\n",
       "    <tr>\n",
       "      <th>799882</th>\n",
       "      <td>520.0</td>\n",
       "      <td>11680</td>\n",
       "    </tr>\n",
       "    <tr>\n",
       "      <th>6717555</th>\n",
       "      <td>500.0</td>\n",
       "      <td>365</td>\n",
       "    </tr>\n",
       "    <tr>\n",
       "      <th>921571</th>\n",
       "      <td>500.0</td>\n",
       "      <td>2555</td>\n",
       "    </tr>\n",
       "  </tbody>\n",
       "</table>\n",
       "<p>1517 rows × 2 columns</p>\n",
       "</div>"
      ],
      "text/plain": [
       "         monthly_price  reviews_per_month\n",
       "7733192        19500.0               4380\n",
       "2459519        19000.0               4745\n",
       "4464824        14900.0               1825\n",
       "7439802        14559.0               2555\n",
       "368403         13500.0               1825\n",
       "...                ...                ...\n",
       "7074024          588.0               1460\n",
       "8566475          550.0                  0\n",
       "799882           520.0              11680\n",
       "6717555          500.0                365\n",
       "921571           500.0               2555\n",
       "\n",
       "[1517 rows x 2 columns]"
      ]
     },
     "execution_count": 16,
     "metadata": {},
     "output_type": "execute_result"
    }
   ],
   "source": [
    "review_and_price = listing_average_monthly_price.to_frame().join(top_reviews_per_month, how='left')\n",
    "review_and_price"
   ]
  },
  {
   "cell_type": "code",
   "execution_count": 17,
   "metadata": {},
   "outputs": [
    {
     "data": {
      "text/plain": [
       "array([[<matplotlib.axes._subplots.AxesSubplot object at 0x1a1e668590>]],\n",
       "      dtype=object)"
      ]
     },
     "execution_count": 17,
     "metadata": {},
     "output_type": "execute_result"
    },
    {
     "data": {
      "image/png": "[encoded data removed]",
      "text/plain": [
       "<Figure size 432x288 with 1 Axes>"
      ]
     },
     "metadata": {
      "needs_background": "light"
     },
     "output_type": "display_data"
    }
   ],
   "source": [
    "review_and_price.hist('monthly_price', bins=10)"
   ]
  },
  {
   "cell_type": "code",
   "execution_count": 18,
   "metadata": {},
   "outputs": [
    {
     "data": {
      "text/plain": [
       "array([[<matplotlib.axes._subplots.AxesSubplot object at 0x1a1a77bf50>]],\n",
       "      dtype=object)"
      ]
     },
     "execution_count": 18,
     "metadata": {},
     "output_type": "execute_result"
    },
    {
     "data": {
      "image/png": "[encoded data removed]",
      "text/plain": [
       "<Figure size 432x288 with 1 Axes>"
      ]
     },
     "metadata": {
      "needs_background": "light"
     },
     "output_type": "display_data"
    }
   ],
   "source": [
    "review_and_price.hist('reviews_per_month', bins=10)"
   ]
  },
  {
   "cell_type": "code",
   "execution_count": 19,
   "metadata": {},
   "outputs": [
    {
     "data": {
      "text/html": [
       "<div>\n",
       "<style scoped>\n",
       "    .dataframe tbody tr th:only-of-type {\n",
       "        vertical-align: middle;\n",
       "    }\n",
       "\n",
       "    .dataframe tbody tr th {\n",
       "        vertical-align: top;\n",
       "    }\n",
       "\n",
       "    .dataframe thead th {\n",
       "        text-align: right;\n",
       "    }\n",
       "</style>\n",
       "<table border=\"1\" class=\"dataframe\">\n",
       "  <thead>\n",
       "    <tr style=\"text-align: right;\">\n",
       "      <th></th>\n",
       "      <th>monthly_price</th>\n",
       "      <th>reviews_per_month</th>\n",
       "    </tr>\n",
       "  </thead>\n",
       "  <tbody>\n",
       "    <tr>\n",
       "      <th>monthly_price</th>\n",
       "      <td>1.000000</td>\n",
       "      <td>-0.027049</td>\n",
       "    </tr>\n",
       "    <tr>\n",
       "      <th>reviews_per_month</th>\n",
       "      <td>-0.027049</td>\n",
       "      <td>1.000000</td>\n",
       "    </tr>\n",
       "  </tbody>\n",
       "</table>\n",
       "</div>"
      ],
      "text/plain": [
       "                   monthly_price  reviews_per_month\n",
       "monthly_price           1.000000          -0.027049\n",
       "reviews_per_month      -0.027049           1.000000"
      ]
     },
     "execution_count": 19,
     "metadata": {},
     "output_type": "execute_result"
    }
   ],
   "source": [
    "review_and_price.corr()"
   ]
  },
  {
   "cell_type": "code",
   "execution_count": 20,
   "metadata": {},
   "outputs": [
    {
     "data": {
      "text/plain": [
       "<matplotlib.axes._subplots.AxesSubplot at 0x1a6ff80650>"
      ]
     },
     "execution_count": 20,
     "metadata": {},
     "output_type": "execute_result"
    },
    {
     "data": {
      "image/png": "[encoded data removed]",
      "text/plain": [
       "<Figure size 432x288 with 1 Axes>"
      ]
     },
     "metadata": {
      "needs_background": "light"
     },
     "output_type": "display_data"
    }
   ],
   "source": [
    "review_and_price.plot(x='monthly_price', y='reviews_per_month')"
   ]
  },
  {
   "cell_type": "code",
   "execution_count": 21,
   "metadata": {},
   "outputs": [
    {
     "data": {
      "text/plain": [
       "<seaborn.axisgrid.PairGrid at 0x1a6feae590>"
      ]
     },
     "execution_count": 21,
     "metadata": {},
     "output_type": "execute_result"
    },
    {
     "data": {
      "image/png": "[encoded data removed]",
      "text/plain": [
       "<Figure size 360x360 with 6 Axes>"
      ]
     },
     "metadata": {
      "needs_background": "light"
     },
     "output_type": "display_data"
    }
   ],
   "source": [
    "sns.pairplot(review_and_price)"
   ]
  },
  {
   "cell_type": "markdown",
   "metadata": {},
   "source": [
    "### Neighborhood and price"
   ]
  },
  {
   "cell_type": "code",
   "execution_count": 22,
   "metadata": {},
   "outputs": [
    {
     "data": {
      "text/plain": [
       "array(['Dunlap', 'Roosevelt', 'South Delridge', 'Wallingford', 'Broadway',\n",
       "       'Georgetown', 'First Hill', 'Fairmount Park', 'Maple Leaf',\n",
       "       'Green Lake', 'Belltown', 'Adams', 'Holly Park', 'Windermere',\n",
       "       'Whittier Heights', 'Loyal Heights', 'Fremont', 'Mid-Beacon Hill',\n",
       "       'Stevens', 'Wedgwood', 'South Lake Union', 'Genesee', 'Ravenna',\n",
       "       'Greenwood', 'Montlake', 'West Woodland', 'Seward Park',\n",
       "       'Eastlake', 'Highland Park', 'Leschi', 'Crown Hill',\n",
       "       'North Admiral', 'Central Business District', 'Phinney Ridge',\n",
       "       'Haller Lake', 'North Queen Anne', 'Atlantic', 'Alki',\n",
       "       'Harrison/Denny-Blaine', 'North Beacon Hill', 'Mann', 'Seaview',\n",
       "       'Matthews Beach', 'Sunset Hill', 'East Queen Anne',\n",
       "       'Lower Queen Anne', 'Rainier Beach', 'West Queen Anne',\n",
       "       'Lawton Park', 'Columbia City', 'Gatewood', 'Bryant',\n",
       "       'International District', 'North Beach/Blue Ridge',\n",
       "       'North Delridge', 'University District', 'Minor', 'Arbor Heights',\n",
       "       'Madrona', 'Broadview', 'Cedar Park', 'Briarcliff', 'Riverview',\n",
       "       'Fauntleroy', 'Olympic Hills', 'Mount Baker', 'North College Park',\n",
       "       'Pioneer Square', 'Westlake', 'Victory Heights', 'Pike-Market',\n",
       "       'Brighton', 'Madison Park', 'High Point', 'Meadowbrook',\n",
       "       'Bitter Lake', 'Laurelhurst', 'Industrial District',\n",
       "       'South Beacon Hill', 'Southeast Magnolia', 'Interbay',\n",
       "       'Portage Bay', 'View Ridge', 'Yesler Terrace', 'Pinehurst',\n",
       "       'South Park', 'Roxhill'], dtype=object)"
      ]
     },
     "execution_count": 22,
     "metadata": {},
     "output_type": "execute_result"
    }
   ],
   "source": [
    "unique_neighborhood = all_frames['neighbourhood_cleansed'].unique()\n",
    "unique_neighborhood"
   ]
  },
  {
   "cell_type": "code",
   "execution_count": 29,
   "metadata": {},
   "outputs": [
    {
     "name": "stderr",
     "output_type": "stream",
     "text": [
      "/Users/rhoesada/opt/anaconda3/envs/py37/lib/python3.7/site-packages/ipykernel_launcher.py:2: SettingWithCopyWarning: \n",
      "A value is trying to be set on a copy of a slice from a DataFrame.\n",
      "Try using .loc[row_indexer,col_indexer] = value instead\n",
      "\n",
      "See the caveats in the documentation: http://pandas.pydata.org/pandas-docs/stable/user_guide/indexing.html#returning-a-view-versus-a-copy\n",
      "  \n"
     ]
    },
    {
     "data": {
      "text/html": [
       "<div>\n",
       "<style scoped>\n",
       "    .dataframe tbody tr th:only-of-type {\n",
       "        vertical-align: middle;\n",
       "    }\n",
       "\n",
       "    .dataframe tbody tr th {\n",
       "        vertical-align: top;\n",
       "    }\n",
       "\n",
       "    .dataframe thead th {\n",
       "        text-align: right;\n",
       "    }\n",
       "</style>\n",
       "<table border=\"1\" class=\"dataframe\">\n",
       "  <thead>\n",
       "    <tr style=\"text-align: right;\">\n",
       "      <th></th>\n",
       "      <th>monthly_price</th>\n",
       "    </tr>\n",
       "    <tr>\n",
       "      <th>neighbourhood_cleansed</th>\n",
       "      <th></th>\n",
       "    </tr>\n",
       "  </thead>\n",
       "  <tbody>\n",
       "    <tr>\n",
       "      <th>Portage Bay</th>\n",
       "      <td>6302.597403</td>\n",
       "    </tr>\n",
       "    <tr>\n",
       "      <th>Briarcliff</th>\n",
       "      <td>4604.545455</td>\n",
       "    </tr>\n",
       "    <tr>\n",
       "      <th>Pike-Market</th>\n",
       "      <td>4348.207692</td>\n",
       "    </tr>\n",
       "    <tr>\n",
       "      <th>South Lake Union</th>\n",
       "      <td>3965.653595</td>\n",
       "    </tr>\n",
       "    <tr>\n",
       "      <th>Central Business District</th>\n",
       "      <td>3662.375459</td>\n",
       "    </tr>\n",
       "    <tr>\n",
       "      <th>...</th>\n",
       "      <td>...</td>\n",
       "    </tr>\n",
       "    <tr>\n",
       "      <th>Georgetown</th>\n",
       "      <td>1400.752137</td>\n",
       "    </tr>\n",
       "    <tr>\n",
       "      <th>South Delridge</th>\n",
       "      <td>1390.218659</td>\n",
       "    </tr>\n",
       "    <tr>\n",
       "      <th>Wedgwood</th>\n",
       "      <td>1331.795455</td>\n",
       "    </tr>\n",
       "    <tr>\n",
       "      <th>Victory Heights</th>\n",
       "      <td>1122.549550</td>\n",
       "    </tr>\n",
       "    <tr>\n",
       "      <th>Arbor Heights</th>\n",
       "      <td>950.000000</td>\n",
       "    </tr>\n",
       "  </tbody>\n",
       "</table>\n",
       "<p>84 rows × 1 columns</p>\n",
       "</div>"
      ],
      "text/plain": [
       "                           monthly_price\n",
       "neighbourhood_cleansed                  \n",
       "Portage Bay                  6302.597403\n",
       "Briarcliff                   4604.545455\n",
       "Pike-Market                  4348.207692\n",
       "South Lake Union             3965.653595\n",
       "Central Business District    3662.375459\n",
       "...                                  ...\n",
       "Georgetown                   1400.752137\n",
       "South Delridge               1390.218659\n",
       "Wedgwood                     1331.795455\n",
       "Victory Heights              1122.549550\n",
       "Arbor Heights                 950.000000\n",
       "\n",
       "[84 rows x 1 columns]"
      ]
     },
     "execution_count": 29,
     "metadata": {},
     "output_type": "execute_result"
    }
   ],
   "source": [
    "neigborhood_and_price = all_frames[['monthly_price', 'neighbourhood_cleansed']]\n",
    "neigborhood_and_price['monthly_price'] = neigborhood_and_price['monthly_price'].replace('[\\$,)]','', regex=True).astype(float)\n",
    "neigborhood_and_price.groupby('neighbourhood_cleansed').mean().sort_values(ascending=False, by='monthly_price').dropna()"
   ]
  },
  {
   "cell_type": "code",
   "execution_count": null,
   "metadata": {},
   "outputs": [],
   "source": []
  }
 ],
 "metadata": {
  "kernelspec": {
   "display_name": "Python (py37)",
   "language": "python",
   "name": "py37"
  },
  "language_info": {
   "codemirror_mode": {
    "name": "ipython",
    "version": 3
   },
   "file_extension": ".py",
   "mimetype": "text/x-python",
   "name": "python",
   "nbconvert_exporter": "python",
   "pygments_lexer": "ipython3",
   "version": "3.7.4"
  }
 },
 "nbformat": 4,
 "nbformat_minor": 2
}
